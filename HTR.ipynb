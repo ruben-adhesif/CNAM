{
 "cells": [
  {
   "cell_type": "markdown",
   "metadata": {},
   "source": [
    "# HTR Kraken Cremma\n",
    "\n",
    "Installation : \n",
    "- `pip install kraken`\n",
    "- https://kraken.re/main/index.html\n",
    "\n",
    "MarketPlace on shell:\n",
    "- kraken list\n",
    "- kraken show <name>\n",
    "- kraken get <name>"
   ]
  },
  {
   "cell_type": "code",
   "execution_count": 1,
   "metadata": {},
   "outputs": [],
   "source": [
    "import kraken\n",
    "\n",
    "import cv2\n",
    "from PIL import Image\n",
    "import json\n",
    "import matplotlib.pyplot as plt\n",
    "from difflib import SequenceMatcher\n",
    "import time"
   ]
  },
  {
   "cell_type": "markdown",
   "metadata": {},
   "source": [
    "# Config"
   ]
  },
  {
   "cell_type": "code",
   "execution_count": 2,
   "metadata": {},
   "outputs": [],
   "source": [
    "def Print(img, name = \"img\"):\n",
    "    # Convert BGR to RGB and print it\n",
    "    img_rgb = cv2.cvtColor(img, cv2.COLOR_BGR2RGB)\n",
    "    plt.imshow(img_rgb)\n",
    "    plt.axis('off')\n",
    "    plt.title(name)\n",
    "    plt.show()\n",
    "\n",
    "def Image(name : str):\n",
    "    img = cv2.imread(r'image/' + name)\n",
    "    if img is None:\n",
    "        print(\"Image Not Found\")\n",
    "    return img\n",
    "\n",
    "def Score(original : str, transcrip : str):\n",
    "    if transcrip == \"\":\n",
    "        return -1\n",
    "    else :\n",
    "        return SequenceMatcher(None, original, transcrip).ratio()"
   ]
  },
  {
   "cell_type": "code",
   "execution_count": 8,
   "metadata": {},
   "outputs": [],
   "source": [
    "def Timer(name:str, start_time:float):\n",
    "    actual_time = time.time()\n",
    "    print(f\"{name} {actual_time - start_time:.3f} sec\")\n",
    "    return actual_time"
   ]
  },
  {
   "cell_type": "markdown",
   "metadata": {},
   "source": [
    "# OCR"
   ]
  },
  {
   "cell_type": "code",
   "execution_count": 5,
   "metadata": {},
   "outputs": [],
   "source": [
    "from kraken import binarization, pageseg"
   ]
  },
  {
   "cell_type": "code",
   "execution_count": 9,
   "metadata": {},
   "outputs": [
    {
     "name": "stdout",
     "output_type": "stream",
     "text": [
      "binarization.nlbin 5.176 sec\n",
      "pageseg.segment 48.616 sec\n"
     ]
    },
    {
     "ename": "",
     "evalue": "",
     "output_type": "error",
     "traceback": [
      "\u001b[1;31mThe Kernel crashed while executing code in the the current cell or a previous cell. Please review the code in the cell(s) to identify a possible cause of the failure. Click <a href='https://aka.ms/vscodeJupyterKernelCrash'>here</a> for more info. View Jupyter <a href='command:jupyter.viewOutput'>log</a> for further details."
     ]
    }
   ],
   "source": [
    "img_name = r'img_1.jpg'\n",
    "#img = cv2.imread(r'image/' + img_name)\n",
    "im = Image.open(r'image/' + img_name)\n",
    "start_time = time.time()\n",
    "\n",
    "bw_im = binarization.nlbin(im)\n",
    "binarization_time = Timer(\"binarization.nlbin\", start_time)\n",
    "\n",
    "seg = pageseg.segment(bw_im)\n",
    "pageseg_time = Timer(\"pageseg.segment\", binarization_time)"
   ]
  }
 ],
 "metadata": {
  "kernelspec": {
   "display_name": "Python 3",
   "language": "python",
   "name": "python3"
  },
  "language_info": {
   "codemirror_mode": {
    "name": "ipython",
    "version": 3
   },
   "file_extension": ".py",
   "mimetype": "text/x-python",
   "name": "python",
   "nbconvert_exporter": "python",
   "pygments_lexer": "ipython3",
   "version": "3.10.11"
  }
 },
 "nbformat": 4,
 "nbformat_minor": 2
}
