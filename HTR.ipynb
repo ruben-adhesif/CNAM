{
 "cells": [
  {
   "cell_type": "markdown",
   "metadata": {},
   "source": [
    "# HTR Kraken Cremma\n",
    "\n",
    "Installation : \n",
    "- `pip install kraken`\n",
    "- https://github.com/mittagessen/kraken\n",
    "- https://kraken.re/main/index.html\n",
    "\n",
    "MarketPlace on shell:\n",
    "- kraken list\n",
    "- kraken show <name>\n",
    "- kraken get <name>\n",
    "\n",
    "Library not fully matain :\n",
    "- https://github.com/mittagessen/kraken/issues/573"
   ]
  },
  {
   "cell_type": "code",
   "execution_count": 1,
   "metadata": {},
   "outputs": [],
   "source": [
    "import kraken\n",
    "\n",
    "import cv2\n",
    "from PIL import Image\n",
    "import json\n",
    "import matplotlib.pyplot as plt\n",
    "from difflib import SequenceMatcher\n",
    "import time"
   ]
  },
  {
   "cell_type": "code",
   "execution_count": 8,
   "metadata": {},
   "outputs": [],
   "source": [
    "def Timer(name:str, start_time:float):\n",
    "    actual_time = time.time()\n",
    "    print(f\"{name} {actual_time - start_time:.3f} sec\")\n",
    "    return actual_time"
   ]
  },
  {
   "cell_type": "markdown",
   "metadata": {},
   "source": [
    "# Config"
   ]
  },
  {
   "cell_type": "code",
   "execution_count": null,
   "metadata": {
    "vscode": {
     "languageId": "shellscript"
    }
   },
   "outputs": [],
   "source": [
    "# Install Python 3.10 on WSL on folder /kraken_env/\n",
    "#   - no influence on python version out of WSL\n",
    "#   - on WSL python3.10, pip and pip3.10 depend from python3.10\n",
    "#   - on WSL python depend from python3.8\n",
    "# If you have a build python 3.10 on Windows, this build will work independently from the first one\n",
    "# But from now, when you will work on WSL, you will use Python 3.10 instead on 3.8\n",
    "\n",
    "# Clic on this file from your Folder Explorer or run it from CMD Terminal\n",
    "# Take a couple of minute to run \n",
    "# Must print \"No broken requirements found.\" at the end\n",
    "\n",
    "# Request WSL (sudo wsl --install)\n",
    "wsl\n",
    "\n",
    "# Creat folder\n",
    "mkdir kraken_env\n",
    "cd kraken_env/\n",
    "\n",
    "# Update apt (just in case)\n",
    "sudo apt update\n",
    "sudo apt upgrade\n",
    "sudo apt install build-essential zlib1g-dev libncurses5-dev libgdbm-dev libnss3-dev libssl-dev libreadline-dev libffi-dev wget\n",
    "\n",
    "# Download & unzip folder Python3.10\n",
    "wget https://www.python.org/ftp/python/3.10.0/Python-3.10.0.tgz\n",
    "tar -xf Python-3.10.0.tgz\n",
    "rm Python-3.10.0.tgz\n",
    "\n",
    "# Configure & install the build\n",
    "cd Python-3.10.0\n",
    "./configure --enable-optimizations\n",
    "make -j$(nproc)\n",
    "sudo make altinstall\n",
    "\n",
    "# Check the build is up\n",
    "python3.10 --version\n",
    "\n",
    "# Install kraken\n",
    "pip3.10 install --upgrade pip\n",
    "pip3.10 install kraken\n",
    "\n",
    "# Check kraken has all the require lib\n",
    "pip3.10 check kraken"
   ]
  },
  {
   "cell_type": "markdown",
   "metadata": {},
   "source": [
    "# HTR"
   ]
  },
  {
   "cell_type": "code",
   "execution_count": 9,
   "metadata": {},
   "outputs": [
    {
     "name": "stdout",
     "output_type": "stream",
     "text": [
      "binarization.nlbin 5.176 sec\n",
      "pageseg.segment 48.616 sec\n"
     ]
    },
    {
     "ename": "",
     "evalue": "",
     "output_type": "error",
     "traceback": [
      "\u001b[1;31mThe Kernel crashed while executing code in the the current cell or a previous cell. Please review the code in the cell(s) to identify a possible cause of the failure. Click <a href='https://aka.ms/vscodeJupyterKernelCrash'>here</a> for more info. View Jupyter <a href='command:jupyter.viewOutput'>log</a> for further details."
     ]
    }
   ],
   "source": [
    "from kraken import binarization, pageseg\n",
    "\n",
    "img_name = r'img_1.jpg'\n",
    "#img = cv2.imread(r'image/' + img_name)\n",
    "im = Image.open(r'image/' + img_name)\n",
    "start_time = time.time()\n",
    "\n",
    "bw_im = binarization.nlbin(im)\n",
    "binarization_time = Timer(\"binarization.nlbin\", start_time)\n",
    "\n",
    "seg = pageseg.segment(bw_im)\n",
    "pageseg_time = Timer(\"pageseg.segment\", binarization_time)"
   ]
  },
  {
   "cell_type": "code",
   "execution_count": null,
   "metadata": {},
   "outputs": [],
   "source": [
    "# https://colab.research.google.com/drive/1vjk-In0g9OKSRQJzqIG_F_Yq-xA8JPMp#scrollTo=sPiSz9isrVv6\n",
    "\n",
    "from kraken import binarization, pagesegimport kraken\n",
    "from kraken.lib import models\n",
    "\n",
    "model = models.load_any(\"10.5281/zenodo.10592716\")"
   ]
  },
  {
   "cell_type": "code",
   "execution_count": null,
   "metadata": {},
   "outputs": [],
   "source": [
    "# script v1\n",
    "from PIL import Image\n",
    "from kraken.lib import vgsl\n",
    "from kraken import blla\n",
    "import serialization\n",
    "\n",
    "MODEL_PATH = \"./CREMMA-Medieval-LAT.mlmodel\"\n",
    "IMAGE_PATH = \"/home/HTR/data/img_1.jpg\"\n",
    "OUTPUT_PATH = \"/home/HTR/output.xml\"\n",
    "\n",
    "def process_image(image_filename, output_xml):\n",
    "    try:\n",
    "        im = Image.open(image_filename)\n",
    "        seg_model = vgsl.TorchVGSLModel.load_model(MODEL_PATH)\n",
    "        baseline_seg = blla.segment(im, model=seg_model)\n",
    "        with open(output_xml, 'w') as fp:\n",
    "            fp.write(serialization.serialize_segmentation(\n",
    "                baseline_seg,\n",
    "                image_name=image_filename,\n",
    "                image_size=im.size,\n",
    "                template='alto'\n",
    "            ))\n",
    "            print(f\"Écriture de {output_xml}\")\n",
    "    except Exception as e:\n",
    "        print(f\"Erreur lors du traitement de {image_filename}. Erreur :{e}\")\n",
    "\n",
    "process_image(IMAGE_PATH, OUTPUT_PATH)"
   ]
  },
  {
   "cell_type": "code",
   "execution_count": null,
   "metadata": {},
   "outputs": [],
   "source": [
    "# script v2\n",
    "from PIL import Image\n",
    "from kraken.binarization import nlbin\n",
    "from kraken import ketos\n",
    "import kraken.ketos.lib.pretrain.model\n",
    "\n",
    "MODEL_PATH = \"./CREMMA-Medieval-LAT.mlmodel\"\n",
    "IMAGE_PATH = \"/home/HTR/data/img_1.jpg\"\n",
    "OUTPUT_PATH = \"/home/HTR/output.xml\"\n",
    "\n",
    "im = Image.open(IMAGE_PATH)\n",
    "binarized_image = nlbin(im)\n",
    "\n",
    "model = ketos.pretrain()\n",
    "\n",
    "binarized_image.save(\"binarized.jpg\")\n",
    "print(\"Done\")"
   ]
  }
 ],
 "metadata": {
  "kernelspec": {
   "display_name": "Python 3",
   "language": "python",
   "name": "python3"
  },
  "language_info": {
   "codemirror_mode": {
    "name": "ipython",
    "version": 3
   },
   "file_extension": ".py",
   "mimetype": "text/x-python",
   "name": "python",
   "nbconvert_exporter": "python",
   "pygments_lexer": "ipython3",
   "version": "3.10.11"
  }
 },
 "nbformat": 4,
 "nbformat_minor": 2
}
