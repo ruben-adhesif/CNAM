{
 "cells": [
  {
   "cell_type": "markdown",
   "metadata": {},
   "source": [
    "# OCR research\n",
    "Optical Character Recognition\n",
    "\n",
    "Python-tesseract is a python wrapper for Google's Tesseract-OCR <br>\n",
    "For the intallation : [Link](https://github.com/UB-Mannheim/tesseract/wiki) + `pip install pytesseract`\n",
    "- Additionnal scrip :\n",
    "    - add `latin script`\n",
    "- Additionnal language data :\n",
    "    - add `english middle (1100-1500)`\n",
    "    - add `french middle (1400-1600)`\n",
    "    - add `occitan (post 1500)` <br><br>"
   ]
  },
  {
   "cell_type": "code",
   "execution_count": 123,
   "metadata": {},
   "outputs": [],
   "source": [
    "import cv2\n",
    "import json\n",
    "\n",
    "import pytesseract as OCR\n",
    "from pytesseract import Output\n",
    "\n",
    "from difflib import SequenceMatcher\n",
    "import numpy as np\n",
    "import seaborn as sns\n",
    "import matplotlib.pyplot as plt\n",
    "\n",
    "import traceback\n",
    "import os\n"
   ]
  },
  {
   "cell_type": "code",
   "execution_count": 154,
   "metadata": {},
   "outputs": [
    {
     "name": "stdout",
     "output_type": "stream",
     "text": [
      "C:/Program Files/Tesseract-OCR/tessdata\n"
     ]
    }
   ],
   "source": [
    "# To let connect to the app Tessdata\n",
    "OCR.pytesseract.tesseract_cmd = r'C:/Program Files/Tesseract-OCR/tesseract.exe'\n",
    "os.environ[\"TESSDATA_PREFIX\"] = r\"C:/Program Files/Tesseract-OCR/tessdata\" # Leaving it empty because file is already copy pasted in the current directory\n",
    "print(os.getenv(\"TESSDATA_PREFIX\"))"
   ]
  },
  {
   "cell_type": "markdown",
   "metadata": {},
   "source": [
    "# Configuratin"
   ]
  },
  {
   "cell_type": "code",
   "execution_count": 92,
   "metadata": {},
   "outputs": [],
   "source": [
    "def Image(name : str):\n",
    "    img = cv2.imread(r'.\\\\image\\\\' + name)\n",
    "    if img is None:\n",
    "        Print(\"Image Not Found\")\n",
    "    return img\n",
    "\n",
    "def config(psm=1, oem=1):\n",
    "    return rf'--psm {psm} --oem {oem}'\n",
    "\n",
    "def Print(img, name = \"img\"):\n",
    "    # Convert BGR to RGB and print it\n",
    "    img_rgb = cv2.cvtColor(img, cv2.COLOR_BGR2RGB)\n",
    "    plt.imshow(img_rgb)\n",
    "    plt.axis('off')\n",
    "    plt.title(name)\n",
    "    plt.show()\n",
    "\n",
    "def Score(original : str, transcrip : str):\n",
    "    return SequenceMatcher(None, original, transcrip).ratio()"
   ]
  },
  {
   "cell_type": "code",
   "execution_count": 167,
   "metadata": {},
   "outputs": [],
   "source": [
    "def Transcription(img, lang=None, myconfig = ''):\n",
    "    try:\n",
    "        transciption = OCR.image_to_string(image=img, lang=lang, config=myconfig)\n",
    "    except Exception as e:\n",
    "        transciption = \"\"\n",
    "        traceback.print_exc()\n",
    "        print(\"\\n\")\n",
    "    return transciption"
   ]
  },
  {
   "cell_type": "code",
   "execution_count": 57,
   "metadata": {},
   "outputs": [],
   "source": [
    "def Charac(img, lang= 'eng', myconfig= config()):\n",
    "    # Get the boxes of the recognize letter\n",
    "    img_copy = img.copy()\n",
    "    data = OCR.image_to_boxes(image=img_copy, lang=lang, config=myconfig)\n",
    "    # don't accepte  output_type='data.frame' for some reason\n",
    "    \n",
    "    # Draw green box arround\n",
    "    height = img_copy.shape[0]   # cv2.shape : height, width, channel ~= color\n",
    "    for box in data.splitlines():\n",
    "        box = box.split(\" \")\n",
    "        img_copy = cv2.rectangle(\n",
    "            img=img_copy, \n",
    "            pt1=(int(box[1]), height - int(box[2])),\n",
    "            pt2=(int(box[3]), height - int(box[4])),\n",
    "            color=(0, 255, 0) # BGR color system\n",
    "        )\n",
    "    \n",
    "    Print(img_copy, \"Recognize character\")"
   ]
  },
  {
   "cell_type": "code",
   "execution_count": 59,
   "metadata": {},
   "outputs": [],
   "source": [
    "def Word(img, myconfig = config(), trust_limit = 80.0, draw_text=False):\n",
    "    # Extract data and take only the trusted word\n",
    "    img_copy = img.copy()\n",
    "    data = OCR.image_to_data(image=img_copy, config=myconfig, output_type=Output.DATAFRAME)\n",
    "    trust_data = data[ data['conf'] > trust_limit ]    # only with confidence above trust limit (80%)\n",
    "\n",
    "    \n",
    "    for _, row in trust_data.iterrows():\n",
    "        (x, y, width, height) = (row['left'], row['top'], row['width'], row['height'])\n",
    "        \n",
    "        # Draw red box arround\n",
    "        img_copy= cv2.rectangle(\n",
    "            img= img_copy,\n",
    "            pt1= (x,y),\n",
    "            pt2= (x+width, y+height),\n",
    "            color= (0,0,255)    #BGR system\n",
    "        )\n",
    "        \n",
    "        # Write red text bellow\n",
    "        if draw_text:\n",
    "            img_copy = cv2.putText(\n",
    "                img= img_copy,\n",
    "                text= row[\"text\"],\n",
    "                org= (x, y+height+5),\n",
    "                fontFace= cv2.FONT_HERSHEY_COMPLEX_SMALL,\n",
    "                fontScale= 0.5,\n",
    "                color= (0,0,255)\n",
    "            )\n",
    "    \n",
    "    Print(img_copy, \"Recognize word\")"
   ]
  },
  {
   "cell_type": "code",
   "execution_count": 7,
   "metadata": {},
   "outputs": [],
   "source": [
    "with open(r'.\\\\text.json', 'r', encoding='utf-8') as file:\n",
    "    original = json.load(file)"
   ]
  },
  {
   "cell_type": "markdown",
   "metadata": {},
   "source": [
    "# Calibration"
   ]
  },
  {
   "cell_type": "raw",
   "metadata": {},
   "source": [
    "Representation psm, oem and lang\n",
    "\n",
    "$ tesseract --help-psm\n",
    "Page segmentation modes:\n",
    "0    Orientation and script detection (OSD) only.\n",
    "1    Automatic page segmentation with OSD.\n",
    "2    Automatic page segmentation, but no OSD, or OCR. (not implemented)\n",
    "3    Fully automatic page segmentation, but no OSD. (Default)\n",
    "4    Assume a single column of text of variable sizes.\n",
    "5    Assume a single uniform block of vertically aligned text.\n",
    "6    Assume a single uniform block of text.\n",
    "7    Treat the image as a single text line.\n",
    "8    Treat the image as a single word.\n",
    "9    Treat the image as a single word in a circle.\n",
    "10    Treat the image as a single character.\n",
    "11    Sparse text. Find as much text as possible in no particular order.\n",
    "12    Sparse text with OSD.\n",
    "13    Raw line. Treat the image as a single text line, bypassing hacks that are Tesseract-specific.\n",
    "\n",
    "$ tesseract --help-oem\n",
    "OCR Engine modes:\n",
    "  0    Legacy engine only.\n",
    "  1    Neural nets LSTM engine only.\n",
    "  2    Legacy + LSTM engines.\n",
    "  3    Default, based on what is available.\n",
    "\n",
    "$ tesseract --list-langs\n",
    "List of available languages in \"C:\\Program Files\\Tesseract-OCR\\tessdata/\" (7):\n",
    "eng\n",
    "enm\n",
    "frm\n",
    "lat\n",
    "oci\n",
    "osd\n",
    "script/Latin"
   ]
  },
  {
   "cell_type": "code",
   "execution_count": 8,
   "metadata": {},
   "outputs": [],
   "source": [
    "img = Image(\"OCR_eng.png\")\n",
    "original_txt = original[\"OCR\"][\"eng\"]"
   ]
  },
  {
   "cell_type": "code",
   "execution_count": 65,
   "metadata": {},
   "outputs": [
    {
     "name": "stdout",
     "output_type": "stream",
     "text": [
      "--psm 1 --oem 1\n"
     ]
    },
    {
     "data": {
      "text/plain": [
       "'English texts for beginners to practice reading and comprehension online and for free. Practicing\\nyour comprehension of written English will both improve your vocabulary and understanding of\\ngrammar and word order. The texts below are designed to help you develop while giving you an\\n\\ninstant evaluation of your progress.\\n'"
      ]
     },
     "execution_count": 65,
     "metadata": {},
     "output_type": "execute_result"
    }
   ],
   "source": [
    "myconfig = config(1,1)\n",
    "print(myconfig)\n",
    "OCR.image_to_string(img, config=myconfig)"
   ]
  },
  {
   "cell_type": "code",
   "execution_count": 58,
   "metadata": {},
   "outputs": [
    {
     "data": {
      "image/png": "[encoded data removed]",
      "text/plain": [
       "<Figure size 640x480 with 1 Axes>"
      ]
     },
     "metadata": {},
     "output_type": "display_data"
    }
   ],
   "source": [
    "Charac(img)"
   ]
  },
  {
   "cell_type": "code",
   "execution_count": 180,
   "metadata": {},
   "outputs": [
    {
     "data": {
      "image/png": "[encoded data removed]",
      "text/plain": [
       "<Figure size 640x480 with 1 Axes>"
      ]
     },
     "metadata": {},
     "output_type": "display_data"
    }
   ],
   "source": [
    "Word(img)"
   ]
  },
  {
   "cell_type": "code",
   "execution_count": 105,
   "metadata": {},
   "outputs": [
    {
     "data": {
      "text/plain": [
       "0.9875389408099688"
      ]
     },
     "execution_count": 105,
     "metadata": {},
     "output_type": "execute_result"
    }
   ],
   "source": [
    "img = Image(\"OCR_eng.png\")\n",
    "transciption = OCR.image_to_string(\n",
    "    image=img, \n",
    "    lang='eng',\n",
    "    config=r'--psm 1 --oem 3'\n",
    ")\n",
    "Score(original_txt, transciption)"
   ]
  },
  {
   "cell_type": "code",
   "execution_count": 174,
   "metadata": {},
   "outputs": [
    {
     "name": "stdout",
     "output_type": "stream",
     "text": [
      "Sans eee\n",
      "\n",
      "--psm 13 --oem 3\n"
     ]
    }
   ],
   "source": [
    "output = OCR.image_to_string(\n",
    "    image=img,\n",
    "    #lang='yhdtflat', \n",
    "    config=myconfig\n",
    ")\n",
    "print(output)\n",
    "print(myconfig)"
   ]
  },
  {
   "cell_type": "code",
   "execution_count": 176,
   "metadata": {},
   "outputs": [
    {
     "name": "stderr",
     "output_type": "stream",
     "text": [
      "Traceback (most recent call last):\n",
      "  File \"C:\\Users\\ruben\\AppData\\Local\\Temp\\ipykernel_10220\\377098847.py\", line 3, in Transcription\n",
      "    transciption = OCR.image_to_string(image=img, lang=lang, config=myconfig)\n",
      "  File \"C:\\Users\\ruben\\AppData\\Local\\Packages\\PythonSoftwareFoundation.Python.3.10_qbz5n2kfra8p0\\LocalCache\\local-packages\\Python310\\site-packages\\pytesseract\\pytesseract.py\", line 423, in image_to_string\n",
      "    return {\n",
      "  File \"C:\\Users\\ruben\\AppData\\Local\\Packages\\PythonSoftwareFoundation.Python.3.10_qbz5n2kfra8p0\\LocalCache\\local-packages\\Python310\\site-packages\\pytesseract\\pytesseract.py\", line 426, in <lambda>\n",
      "    Output.STRING: lambda: run_and_get_output(*args),\n",
      "  File \"C:\\Users\\ruben\\AppData\\Local\\Packages\\PythonSoftwareFoundation.Python.3.10_qbz5n2kfra8p0\\LocalCache\\local-packages\\Python310\\site-packages\\pytesseract\\pytesseract.py\", line 290, in run_and_get_output\n",
      "    with open(filename, 'rb') as output_file:\n",
      "FileNotFoundError: [Errno 2] No such file or directory: 'C:\\\\Users\\\\ruben\\\\AppData\\\\Local\\\\Temp\\\\tess_lvbve_vf.txt'\n"
     ]
    },
    {
     "name": "stdout",
     "output_type": "stream",
     "text": [
      "\n",
      "\n"
     ]
    },
    {
     "name": "stderr",
     "output_type": "stream",
     "text": [
      "Traceback (most recent call last):\n",
      "  File \"C:\\Users\\ruben\\AppData\\Local\\Temp\\ipykernel_10220\\377098847.py\", line 3, in Transcription\n",
      "    transciption = OCR.image_to_string(image=img, lang=lang, config=myconfig)\n",
      "  File \"C:\\Users\\ruben\\AppData\\Local\\Packages\\PythonSoftwareFoundation.Python.3.10_qbz5n2kfra8p0\\LocalCache\\local-packages\\Python310\\site-packages\\pytesseract\\pytesseract.py\", line 423, in image_to_string\n",
      "    return {\n",
      "  File \"C:\\Users\\ruben\\AppData\\Local\\Packages\\PythonSoftwareFoundation.Python.3.10_qbz5n2kfra8p0\\LocalCache\\local-packages\\Python310\\site-packages\\pytesseract\\pytesseract.py\", line 426, in <lambda>\n",
      "    Output.STRING: lambda: run_and_get_output(*args),\n",
      "  File \"C:\\Users\\ruben\\AppData\\Local\\Packages\\PythonSoftwareFoundation.Python.3.10_qbz5n2kfra8p0\\LocalCache\\local-packages\\Python310\\site-packages\\pytesseract\\pytesseract.py\", line 290, in run_and_get_output\n",
      "    with open(filename, 'rb') as output_file:\n",
      "FileNotFoundError: [Errno 2] No such file or directory: 'C:\\\\Users\\\\ruben\\\\AppData\\\\Local\\\\Temp\\\\tess__iegiyn8.txt'\n"
     ]
    },
    {
     "name": "stdout",
     "output_type": "stream",
     "text": [
      "\n",
      "\n"
     ]
    },
    {
     "name": "stderr",
     "output_type": "stream",
     "text": [
      "Traceback (most recent call last):\n",
      "  File \"C:\\Users\\ruben\\AppData\\Local\\Temp\\ipykernel_10220\\377098847.py\", line 3, in Transcription\n",
      "    transciption = OCR.image_to_string(image=img, lang=lang, config=myconfig)\n",
      "  File \"C:\\Users\\ruben\\AppData\\Local\\Packages\\PythonSoftwareFoundation.Python.3.10_qbz5n2kfra8p0\\LocalCache\\local-packages\\Python310\\site-packages\\pytesseract\\pytesseract.py\", line 423, in image_to_string\n",
      "    return {\n",
      "  File \"C:\\Users\\ruben\\AppData\\Local\\Packages\\PythonSoftwareFoundation.Python.3.10_qbz5n2kfra8p0\\LocalCache\\local-packages\\Python310\\site-packages\\pytesseract\\pytesseract.py\", line 426, in <lambda>\n",
      "    Output.STRING: lambda: run_and_get_output(*args),\n",
      "  File \"C:\\Users\\ruben\\AppData\\Local\\Packages\\PythonSoftwareFoundation.Python.3.10_qbz5n2kfra8p0\\LocalCache\\local-packages\\Python310\\site-packages\\pytesseract\\pytesseract.py\", line 290, in run_and_get_output\n",
      "    with open(filename, 'rb') as output_file:\n",
      "FileNotFoundError: [Errno 2] No such file or directory: 'C:\\\\Users\\\\ruben\\\\AppData\\\\Local\\\\Temp\\\\tess_kpyxooxw.txt'\n"
     ]
    },
    {
     "name": "stdout",
     "output_type": "stream",
     "text": [
      "\n",
      "\n"
     ]
    },
    {
     "name": "stderr",
     "output_type": "stream",
     "text": [
      "Traceback (most recent call last):\n",
      "  File \"C:\\Users\\ruben\\AppData\\Local\\Temp\\ipykernel_10220\\377098847.py\", line 3, in Transcription\n",
      "    transciption = OCR.image_to_string(image=img, lang=lang, config=myconfig)\n",
      "  File \"C:\\Users\\ruben\\AppData\\Local\\Packages\\PythonSoftwareFoundation.Python.3.10_qbz5n2kfra8p0\\LocalCache\\local-packages\\Python310\\site-packages\\pytesseract\\pytesseract.py\", line 423, in image_to_string\n",
      "    return {\n",
      "  File \"C:\\Users\\ruben\\AppData\\Local\\Packages\\PythonSoftwareFoundation.Python.3.10_qbz5n2kfra8p0\\LocalCache\\local-packages\\Python310\\site-packages\\pytesseract\\pytesseract.py\", line 426, in <lambda>\n",
      "    Output.STRING: lambda: run_and_get_output(*args),\n",
      "  File \"C:\\Users\\ruben\\AppData\\Local\\Packages\\PythonSoftwareFoundation.Python.3.10_qbz5n2kfra8p0\\LocalCache\\local-packages\\Python310\\site-packages\\pytesseract\\pytesseract.py\", line 290, in run_and_get_output\n",
      "    with open(filename, 'rb') as output_file:\n",
      "FileNotFoundError: [Errno 2] No such file or directory: 'C:\\\\Users\\\\ruben\\\\AppData\\\\Local\\\\Temp\\\\tess_wx5wd6o2.txt'\n",
      "Traceback (most recent call last):\n",
      "  File \"C:\\Users\\ruben\\AppData\\Local\\Temp\\ipykernel_10220\\377098847.py\", line 3, in Transcription\n",
      "    transciption = OCR.image_to_string(image=img, lang=lang, config=myconfig)\n",
      "  File \"C:\\Users\\ruben\\AppData\\Local\\Packages\\PythonSoftwareFoundation.Python.3.10_qbz5n2kfra8p0\\LocalCache\\local-packages\\Python310\\site-packages\\pytesseract\\pytesseract.py\", line 423, in image_to_string\n",
      "    return {\n",
      "  File \"C:\\Users\\ruben\\AppData\\Local\\Packages\\PythonSoftwareFoundation.Python.3.10_qbz5n2kfra8p0\\LocalCache\\local-packages\\Python310\\site-packages\\pytesseract\\pytesseract.py\", line 426, in <lambda>\n",
      "    Output.STRING: lambda: run_and_get_output(*args),\n",
      "  File \"C:\\Users\\ruben\\AppData\\Local\\Packages\\PythonSoftwareFoundation.Python.3.10_qbz5n2kfra8p0\\LocalCache\\local-packages\\Python310\\site-packages\\pytesseract\\pytesseract.py\", line 288, in run_and_get_output\n",
      "    run_tesseract(**kwargs)\n",
      "  File \"C:\\Users\\ruben\\AppData\\Local\\Packages\\PythonSoftwareFoundation.Python.3.10_qbz5n2kfra8p0\\LocalCache\\local-packages\\Python310\\site-packages\\pytesseract\\pytesseract.py\", line 264, in run_tesseract\n",
      "    raise TesseractError(proc.returncode, get_errors(error_string))\n",
      "pytesseract.pytesseract.TesseractError: (1, \"Error: Tesseract (legacy) engine requested, but components are not present in C:/Program Files/Tesseract-OCR/tessdata/eng.traineddata!! Failed loading language 'eng' Tesseract couldn't load any languages! Could not initialize tesseract.\")\n"
     ]
    },
    {
     "name": "stdout",
     "output_type": "stream",
     "text": [
      "\n",
      "\n",
      "\n",
      "\n"
     ]
    },
    {
     "name": "stderr",
     "output_type": "stream",
     "text": [
      "Traceback (most recent call last):\n",
      "  File \"C:\\Users\\ruben\\AppData\\Local\\Temp\\ipykernel_10220\\377098847.py\", line 3, in Transcription\n",
      "    transciption = OCR.image_to_string(image=img, lang=lang, config=myconfig)\n",
      "  File \"C:\\Users\\ruben\\AppData\\Local\\Packages\\PythonSoftwareFoundation.Python.3.10_qbz5n2kfra8p0\\LocalCache\\local-packages\\Python310\\site-packages\\pytesseract\\pytesseract.py\", line 423, in image_to_string\n",
      "    return {\n",
      "  File \"C:\\Users\\ruben\\AppData\\Local\\Packages\\PythonSoftwareFoundation.Python.3.10_qbz5n2kfra8p0\\LocalCache\\local-packages\\Python310\\site-packages\\pytesseract\\pytesseract.py\", line 426, in <lambda>\n",
      "    Output.STRING: lambda: run_and_get_output(*args),\n",
      "  File \"C:\\Users\\ruben\\AppData\\Local\\Packages\\PythonSoftwareFoundation.Python.3.10_qbz5n2kfra8p0\\LocalCache\\local-packages\\Python310\\site-packages\\pytesseract\\pytesseract.py\", line 288, in run_and_get_output\n",
      "    run_tesseract(**kwargs)\n",
      "  File \"C:\\Users\\ruben\\AppData\\Local\\Packages\\PythonSoftwareFoundation.Python.3.10_qbz5n2kfra8p0\\LocalCache\\local-packages\\Python310\\site-packages\\pytesseract\\pytesseract.py\", line 264, in run_tesseract\n",
      "    raise TesseractError(proc.returncode, get_errors(error_string))\n",
      "pytesseract.pytesseract.TesseractError: (1, \"Error: Tesseract (legacy) engine requested, but components are not present in C:/Program Files/Tesseract-OCR/tessdata/eng.traineddata!! Failed loading language 'eng' Tesseract couldn't load any languages! Could not initialize tesseract.\")\n"
     ]
    },
    {
     "name": "stdout",
     "output_type": "stream",
     "text": [
      "\n",
      "\n"
     ]
    },
    {
     "name": "stderr",
     "output_type": "stream",
     "text": [
      "Traceback (most recent call last):\n",
      "  File \"C:\\Users\\ruben\\AppData\\Local\\Temp\\ipykernel_10220\\377098847.py\", line 3, in Transcription\n",
      "    transciption = OCR.image_to_string(image=img, lang=lang, config=myconfig)\n",
      "  File \"C:\\Users\\ruben\\AppData\\Local\\Packages\\PythonSoftwareFoundation.Python.3.10_qbz5n2kfra8p0\\LocalCache\\local-packages\\Python310\\site-packages\\pytesseract\\pytesseract.py\", line 423, in image_to_string\n",
      "    return {\n",
      "  File \"C:\\Users\\ruben\\AppData\\Local\\Packages\\PythonSoftwareFoundation.Python.3.10_qbz5n2kfra8p0\\LocalCache\\local-packages\\Python310\\site-packages\\pytesseract\\pytesseract.py\", line 426, in <lambda>\n",
      "    Output.STRING: lambda: run_and_get_output(*args),\n",
      "  File \"C:\\Users\\ruben\\AppData\\Local\\Packages\\PythonSoftwareFoundation.Python.3.10_qbz5n2kfra8p0\\LocalCache\\local-packages\\Python310\\site-packages\\pytesseract\\pytesseract.py\", line 288, in run_and_get_output\n",
      "    run_tesseract(**kwargs)\n",
      "  File \"C:\\Users\\ruben\\AppData\\Local\\Packages\\PythonSoftwareFoundation.Python.3.10_qbz5n2kfra8p0\\LocalCache\\local-packages\\Python310\\site-packages\\pytesseract\\pytesseract.py\", line 264, in run_tesseract\n",
      "    raise TesseractError(proc.returncode, get_errors(error_string))\n",
      "pytesseract.pytesseract.TesseractError: (1, \"Error: Tesseract (legacy) engine requested, but components are not present in C:/Program Files/Tesseract-OCR/tessdata/eng.traineddata!! Failed loading language 'eng' Tesseract couldn't load any languages! Could not initialize tesseract.\")\n",
      "Traceback (most recent call last):\n",
      "  File \"C:\\Users\\ruben\\AppData\\Local\\Temp\\ipykernel_10220\\377098847.py\", line 3, in Transcription\n",
      "    transciption = OCR.image_to_string(image=img, lang=lang, config=myconfig)\n",
      "  File \"C:\\Users\\ruben\\AppData\\Local\\Packages\\PythonSoftwareFoundation.Python.3.10_qbz5n2kfra8p0\\LocalCache\\local-packages\\Python310\\site-packages\\pytesseract\\pytesseract.py\", line 423, in image_to_string\n",
      "    return {\n",
      "  File \"C:\\Users\\ruben\\AppData\\Local\\Packages\\PythonSoftwareFoundation.Python.3.10_qbz5n2kfra8p0\\LocalCache\\local-packages\\Python310\\site-packages\\pytesseract\\pytesseract.py\", line 426, in <lambda>\n",
      "    Output.STRING: lambda: run_and_get_output(*args),\n",
      "  File \"C:\\Users\\ruben\\AppData\\Local\\Packages\\PythonSoftwareFoundation.Python.3.10_qbz5n2kfra8p0\\LocalCache\\local-packages\\Python310\\site-packages\\pytesseract\\pytesseract.py\", line 290, in run_and_get_output\n",
      "    with open(filename, 'rb') as output_file:\n",
      "FileNotFoundError: [Errno 2] No such file or directory: 'C:\\\\Users\\\\ruben\\\\AppData\\\\Local\\\\Temp\\\\tess_61y_x067.txt'\n"
     ]
    },
    {
     "name": "stdout",
     "output_type": "stream",
     "text": [
      "\n",
      "\n",
      "\n",
      "\n"
     ]
    },
    {
     "name": "stderr",
     "output_type": "stream",
     "text": [
      "Traceback (most recent call last):\n",
      "  File \"C:\\Users\\ruben\\AppData\\Local\\Temp\\ipykernel_10220\\377098847.py\", line 3, in Transcription\n",
      "    transciption = OCR.image_to_string(image=img, lang=lang, config=myconfig)\n",
      "  File \"C:\\Users\\ruben\\AppData\\Local\\Packages\\PythonSoftwareFoundation.Python.3.10_qbz5n2kfra8p0\\LocalCache\\local-packages\\Python310\\site-packages\\pytesseract\\pytesseract.py\", line 423, in image_to_string\n",
      "    return {\n",
      "  File \"C:\\Users\\ruben\\AppData\\Local\\Packages\\PythonSoftwareFoundation.Python.3.10_qbz5n2kfra8p0\\LocalCache\\local-packages\\Python310\\site-packages\\pytesseract\\pytesseract.py\", line 426, in <lambda>\n",
      "    Output.STRING: lambda: run_and_get_output(*args),\n",
      "  File \"C:\\Users\\ruben\\AppData\\Local\\Packages\\PythonSoftwareFoundation.Python.3.10_qbz5n2kfra8p0\\LocalCache\\local-packages\\Python310\\site-packages\\pytesseract\\pytesseract.py\", line 288, in run_and_get_output\n",
      "    run_tesseract(**kwargs)\n",
      "  File \"C:\\Users\\ruben\\AppData\\Local\\Packages\\PythonSoftwareFoundation.Python.3.10_qbz5n2kfra8p0\\LocalCache\\local-packages\\Python310\\site-packages\\pytesseract\\pytesseract.py\", line 264, in run_tesseract\n",
      "    raise TesseractError(proc.returncode, get_errors(error_string))\n",
      "pytesseract.pytesseract.TesseractError: (1, \"Error: Tesseract (legacy) engine requested, but components are not present in C:/Program Files/Tesseract-OCR/tessdata/eng.traineddata!! Failed loading language 'eng' Tesseract couldn't load any languages! Could not initialize tesseract.\")\n",
      "Traceback (most recent call last):\n",
      "  File \"C:\\Users\\ruben\\AppData\\Local\\Temp\\ipykernel_10220\\377098847.py\", line 3, in Transcription\n",
      "    transciption = OCR.image_to_string(image=img, lang=lang, config=myconfig)\n",
      "  File \"C:\\Users\\ruben\\AppData\\Local\\Packages\\PythonSoftwareFoundation.Python.3.10_qbz5n2kfra8p0\\LocalCache\\local-packages\\Python310\\site-packages\\pytesseract\\pytesseract.py\", line 423, in image_to_string\n",
      "    return {\n",
      "  File \"C:\\Users\\ruben\\AppData\\Local\\Packages\\PythonSoftwareFoundation.Python.3.10_qbz5n2kfra8p0\\LocalCache\\local-packages\\Python310\\site-packages\\pytesseract\\pytesseract.py\", line 426, in <lambda>\n",
      "    Output.STRING: lambda: run_and_get_output(*args),\n",
      "  File \"C:\\Users\\ruben\\AppData\\Local\\Packages\\PythonSoftwareFoundation.Python.3.10_qbz5n2kfra8p0\\LocalCache\\local-packages\\Python310\\site-packages\\pytesseract\\pytesseract.py\", line 290, in run_and_get_output\n",
      "    with open(filename, 'rb') as output_file:\n",
      "FileNotFoundError: [Errno 2] No such file or directory: 'C:\\\\Users\\\\ruben\\\\AppData\\\\Local\\\\Temp\\\\tess_gs5s7et_.txt'\n"
     ]
    },
    {
     "name": "stdout",
     "output_type": "stream",
     "text": [
      "\n",
      "\n",
      "\n",
      "\n"
     ]
    },
    {
     "name": "stderr",
     "output_type": "stream",
     "text": [
      "Traceback (most recent call last):\n",
      "  File \"C:\\Users\\ruben\\AppData\\Local\\Temp\\ipykernel_10220\\377098847.py\", line 3, in Transcription\n",
      "    transciption = OCR.image_to_string(image=img, lang=lang, config=myconfig)\n",
      "  File \"C:\\Users\\ruben\\AppData\\Local\\Packages\\PythonSoftwareFoundation.Python.3.10_qbz5n2kfra8p0\\LocalCache\\local-packages\\Python310\\site-packages\\pytesseract\\pytesseract.py\", line 423, in image_to_string\n",
      "    return {\n",
      "  File \"C:\\Users\\ruben\\AppData\\Local\\Packages\\PythonSoftwareFoundation.Python.3.10_qbz5n2kfra8p0\\LocalCache\\local-packages\\Python310\\site-packages\\pytesseract\\pytesseract.py\", line 426, in <lambda>\n",
      "    Output.STRING: lambda: run_and_get_output(*args),\n",
      "  File \"C:\\Users\\ruben\\AppData\\Local\\Packages\\PythonSoftwareFoundation.Python.3.10_qbz5n2kfra8p0\\LocalCache\\local-packages\\Python310\\site-packages\\pytesseract\\pytesseract.py\", line 288, in run_and_get_output\n",
      "    run_tesseract(**kwargs)\n",
      "  File \"C:\\Users\\ruben\\AppData\\Local\\Packages\\PythonSoftwareFoundation.Python.3.10_qbz5n2kfra8p0\\LocalCache\\local-packages\\Python310\\site-packages\\pytesseract\\pytesseract.py\", line 264, in run_tesseract\n",
      "    raise TesseractError(proc.returncode, get_errors(error_string))\n",
      "pytesseract.pytesseract.TesseractError: (1, \"Error: Tesseract (legacy) engine requested, but components are not present in C:/Program Files/Tesseract-OCR/tessdata/eng.traineddata!! Failed loading language 'eng' Tesseract couldn't load any languages! Could not initialize tesseract.\")\n"
     ]
    },
    {
     "name": "stdout",
     "output_type": "stream",
     "text": [
      "\n",
      "\n"
     ]
    },
    {
     "name": "stderr",
     "output_type": "stream",
     "text": [
      "Traceback (most recent call last):\n",
      "  File \"C:\\Users\\ruben\\AppData\\Local\\Temp\\ipykernel_10220\\377098847.py\", line 3, in Transcription\n",
      "    transciption = OCR.image_to_string(image=img, lang=lang, config=myconfig)\n",
      "  File \"C:\\Users\\ruben\\AppData\\Local\\Packages\\PythonSoftwareFoundation.Python.3.10_qbz5n2kfra8p0\\LocalCache\\local-packages\\Python310\\site-packages\\pytesseract\\pytesseract.py\", line 423, in image_to_string\n",
      "    return {\n",
      "  File \"C:\\Users\\ruben\\AppData\\Local\\Packages\\PythonSoftwareFoundation.Python.3.10_qbz5n2kfra8p0\\LocalCache\\local-packages\\Python310\\site-packages\\pytesseract\\pytesseract.py\", line 426, in <lambda>\n",
      "    Output.STRING: lambda: run_and_get_output(*args),\n",
      "  File \"C:\\Users\\ruben\\AppData\\Local\\Packages\\PythonSoftwareFoundation.Python.3.10_qbz5n2kfra8p0\\LocalCache\\local-packages\\Python310\\site-packages\\pytesseract\\pytesseract.py\", line 288, in run_and_get_output\n",
      "    run_tesseract(**kwargs)\n",
      "  File \"C:\\Users\\ruben\\AppData\\Local\\Packages\\PythonSoftwareFoundation.Python.3.10_qbz5n2kfra8p0\\LocalCache\\local-packages\\Python310\\site-packages\\pytesseract\\pytesseract.py\", line 264, in run_tesseract\n",
      "    raise TesseractError(proc.returncode, get_errors(error_string))\n",
      "pytesseract.pytesseract.TesseractError: (1, \"Error: Tesseract (legacy) engine requested, but components are not present in C:/Program Files/Tesseract-OCR/tessdata/eng.traineddata!! Failed loading language 'eng' Tesseract couldn't load any languages! Could not initialize tesseract.\")\n"
     ]
    },
    {
     "name": "stdout",
     "output_type": "stream",
     "text": [
      "\n",
      "\n"
     ]
    },
    {
     "name": "stderr",
     "output_type": "stream",
     "text": [
      "Traceback (most recent call last):\n",
      "  File \"C:\\Users\\ruben\\AppData\\Local\\Temp\\ipykernel_10220\\377098847.py\", line 3, in Transcription\n",
      "    transciption = OCR.image_to_string(image=img, lang=lang, config=myconfig)\n",
      "  File \"C:\\Users\\ruben\\AppData\\Local\\Packages\\PythonSoftwareFoundation.Python.3.10_qbz5n2kfra8p0\\LocalCache\\local-packages\\Python310\\site-packages\\pytesseract\\pytesseract.py\", line 423, in image_to_string\n",
      "    return {\n",
      "  File \"C:\\Users\\ruben\\AppData\\Local\\Packages\\PythonSoftwareFoundation.Python.3.10_qbz5n2kfra8p0\\LocalCache\\local-packages\\Python310\\site-packages\\pytesseract\\pytesseract.py\", line 426, in <lambda>\n",
      "    Output.STRING: lambda: run_and_get_output(*args),\n",
      "  File \"C:\\Users\\ruben\\AppData\\Local\\Packages\\PythonSoftwareFoundation.Python.3.10_qbz5n2kfra8p0\\LocalCache\\local-packages\\Python310\\site-packages\\pytesseract\\pytesseract.py\", line 288, in run_and_get_output\n",
      "    run_tesseract(**kwargs)\n",
      "  File \"C:\\Users\\ruben\\AppData\\Local\\Packages\\PythonSoftwareFoundation.Python.3.10_qbz5n2kfra8p0\\LocalCache\\local-packages\\Python310\\site-packages\\pytesseract\\pytesseract.py\", line 264, in run_tesseract\n",
      "    raise TesseractError(proc.returncode, get_errors(error_string))\n",
      "pytesseract.pytesseract.TesseractError: (1, \"Error: Tesseract (legacy) engine requested, but components are not present in C:/Program Files/Tesseract-OCR/tessdata/eng.traineddata!! Failed loading language 'eng' Tesseract couldn't load any languages! Could not initialize tesseract.\")\n"
     ]
    },
    {
     "name": "stdout",
     "output_type": "stream",
     "text": [
      "\n",
      "\n"
     ]
    },
    {
     "name": "stderr",
     "output_type": "stream",
     "text": [
      "Traceback (most recent call last):\n",
      "  File \"C:\\Users\\ruben\\AppData\\Local\\Temp\\ipykernel_10220\\377098847.py\", line 3, in Transcription\n",
      "    transciption = OCR.image_to_string(image=img, lang=lang, config=myconfig)\n",
      "  File \"C:\\Users\\ruben\\AppData\\Local\\Packages\\PythonSoftwareFoundation.Python.3.10_qbz5n2kfra8p0\\LocalCache\\local-packages\\Python310\\site-packages\\pytesseract\\pytesseract.py\", line 423, in image_to_string\n",
      "    return {\n",
      "  File \"C:\\Users\\ruben\\AppData\\Local\\Packages\\PythonSoftwareFoundation.Python.3.10_qbz5n2kfra8p0\\LocalCache\\local-packages\\Python310\\site-packages\\pytesseract\\pytesseract.py\", line 426, in <lambda>\n",
      "    Output.STRING: lambda: run_and_get_output(*args),\n",
      "  File \"C:\\Users\\ruben\\AppData\\Local\\Packages\\PythonSoftwareFoundation.Python.3.10_qbz5n2kfra8p0\\LocalCache\\local-packages\\Python310\\site-packages\\pytesseract\\pytesseract.py\", line 288, in run_and_get_output\n",
      "    run_tesseract(**kwargs)\n",
      "  File \"C:\\Users\\ruben\\AppData\\Local\\Packages\\PythonSoftwareFoundation.Python.3.10_qbz5n2kfra8p0\\LocalCache\\local-packages\\Python310\\site-packages\\pytesseract\\pytesseract.py\", line 264, in run_tesseract\n",
      "    raise TesseractError(proc.returncode, get_errors(error_string))\n",
      "pytesseract.pytesseract.TesseractError: (1, \"Error: Tesseract (legacy) engine requested, but components are not present in C:/Program Files/Tesseract-OCR/tessdata/eng.traineddata!! Failed loading language 'eng' Tesseract couldn't load any languages! Could not initialize tesseract.\")\n"
     ]
    },
    {
     "name": "stdout",
     "output_type": "stream",
     "text": [
      "\n",
      "\n"
     ]
    },
    {
     "name": "stderr",
     "output_type": "stream",
     "text": [
      "Traceback (most recent call last):\n",
      "  File \"C:\\Users\\ruben\\AppData\\Local\\Temp\\ipykernel_10220\\377098847.py\", line 3, in Transcription\n",
      "    transciption = OCR.image_to_string(image=img, lang=lang, config=myconfig)\n",
      "  File \"C:\\Users\\ruben\\AppData\\Local\\Packages\\PythonSoftwareFoundation.Python.3.10_qbz5n2kfra8p0\\LocalCache\\local-packages\\Python310\\site-packages\\pytesseract\\pytesseract.py\", line 423, in image_to_string\n",
      "    return {\n",
      "  File \"C:\\Users\\ruben\\AppData\\Local\\Packages\\PythonSoftwareFoundation.Python.3.10_qbz5n2kfra8p0\\LocalCache\\local-packages\\Python310\\site-packages\\pytesseract\\pytesseract.py\", line 426, in <lambda>\n",
      "    Output.STRING: lambda: run_and_get_output(*args),\n",
      "  File \"C:\\Users\\ruben\\AppData\\Local\\Packages\\PythonSoftwareFoundation.Python.3.10_qbz5n2kfra8p0\\LocalCache\\local-packages\\Python310\\site-packages\\pytesseract\\pytesseract.py\", line 288, in run_and_get_output\n",
      "    run_tesseract(**kwargs)\n",
      "  File \"C:\\Users\\ruben\\AppData\\Local\\Packages\\PythonSoftwareFoundation.Python.3.10_qbz5n2kfra8p0\\LocalCache\\local-packages\\Python310\\site-packages\\pytesseract\\pytesseract.py\", line 264, in run_tesseract\n",
      "    raise TesseractError(proc.returncode, get_errors(error_string))\n",
      "pytesseract.pytesseract.TesseractError: (1, \"Error: Tesseract (legacy) engine requested, but components are not present in C:/Program Files/Tesseract-OCR/tessdata/eng.traineddata!! Failed loading language 'eng' Tesseract couldn't load any languages! Could not initialize tesseract.\")\n"
     ]
    },
    {
     "name": "stdout",
     "output_type": "stream",
     "text": [
      "\n",
      "\n"
     ]
    },
    {
     "name": "stderr",
     "output_type": "stream",
     "text": [
      "Traceback (most recent call last):\n",
      "  File \"C:\\Users\\ruben\\AppData\\Local\\Temp\\ipykernel_10220\\377098847.py\", line 3, in Transcription\n",
      "    transciption = OCR.image_to_string(image=img, lang=lang, config=myconfig)\n",
      "  File \"C:\\Users\\ruben\\AppData\\Local\\Packages\\PythonSoftwareFoundation.Python.3.10_qbz5n2kfra8p0\\LocalCache\\local-packages\\Python310\\site-packages\\pytesseract\\pytesseract.py\", line 423, in image_to_string\n",
      "    return {\n",
      "  File \"C:\\Users\\ruben\\AppData\\Local\\Packages\\PythonSoftwareFoundation.Python.3.10_qbz5n2kfra8p0\\LocalCache\\local-packages\\Python310\\site-packages\\pytesseract\\pytesseract.py\", line 426, in <lambda>\n",
      "    Output.STRING: lambda: run_and_get_output(*args),\n",
      "  File \"C:\\Users\\ruben\\AppData\\Local\\Packages\\PythonSoftwareFoundation.Python.3.10_qbz5n2kfra8p0\\LocalCache\\local-packages\\Python310\\site-packages\\pytesseract\\pytesseract.py\", line 288, in run_and_get_output\n",
      "    run_tesseract(**kwargs)\n",
      "  File \"C:\\Users\\ruben\\AppData\\Local\\Packages\\PythonSoftwareFoundation.Python.3.10_qbz5n2kfra8p0\\LocalCache\\local-packages\\Python310\\site-packages\\pytesseract\\pytesseract.py\", line 264, in run_tesseract\n",
      "    raise TesseractError(proc.returncode, get_errors(error_string))\n",
      "pytesseract.pytesseract.TesseractError: (1, \"Error: Tesseract (legacy) engine requested, but components are not present in C:/Program Files/Tesseract-OCR/tessdata/eng.traineddata!! Failed loading language 'eng' Tesseract couldn't load any languages! Could not initialize tesseract.\")\n"
     ]
    },
    {
     "name": "stdout",
     "output_type": "stream",
     "text": [
      "\n",
      "\n"
     ]
    },
    {
     "name": "stderr",
     "output_type": "stream",
     "text": [
      "Traceback (most recent call last):\n",
      "  File \"C:\\Users\\ruben\\AppData\\Local\\Temp\\ipykernel_10220\\377098847.py\", line 3, in Transcription\n",
      "    transciption = OCR.image_to_string(image=img, lang=lang, config=myconfig)\n",
      "  File \"C:\\Users\\ruben\\AppData\\Local\\Packages\\PythonSoftwareFoundation.Python.3.10_qbz5n2kfra8p0\\LocalCache\\local-packages\\Python310\\site-packages\\pytesseract\\pytesseract.py\", line 423, in image_to_string\n",
      "    return {\n",
      "  File \"C:\\Users\\ruben\\AppData\\Local\\Packages\\PythonSoftwareFoundation.Python.3.10_qbz5n2kfra8p0\\LocalCache\\local-packages\\Python310\\site-packages\\pytesseract\\pytesseract.py\", line 426, in <lambda>\n",
      "    Output.STRING: lambda: run_and_get_output(*args),\n",
      "  File \"C:\\Users\\ruben\\AppData\\Local\\Packages\\PythonSoftwareFoundation.Python.3.10_qbz5n2kfra8p0\\LocalCache\\local-packages\\Python310\\site-packages\\pytesseract\\pytesseract.py\", line 288, in run_and_get_output\n",
      "    run_tesseract(**kwargs)\n",
      "  File \"C:\\Users\\ruben\\AppData\\Local\\Packages\\PythonSoftwareFoundation.Python.3.10_qbz5n2kfra8p0\\LocalCache\\local-packages\\Python310\\site-packages\\pytesseract\\pytesseract.py\", line 264, in run_tesseract\n",
      "    raise TesseractError(proc.returncode, get_errors(error_string))\n",
      "pytesseract.pytesseract.TesseractError: (1, \"Error: Tesseract (legacy) engine requested, but components are not present in C:/Program Files/Tesseract-OCR/tessdata/eng.traineddata!! Failed loading language 'eng' Tesseract couldn't load any languages! Could not initialize tesseract.\")\n"
     ]
    },
    {
     "name": "stdout",
     "output_type": "stream",
     "text": [
      "\n",
      "\n"
     ]
    },
    {
     "name": "stderr",
     "output_type": "stream",
     "text": [
      "Traceback (most recent call last):\n",
      "  File \"C:\\Users\\ruben\\AppData\\Local\\Temp\\ipykernel_10220\\377098847.py\", line 3, in Transcription\n",
      "    transciption = OCR.image_to_string(image=img, lang=lang, config=myconfig)\n",
      "  File \"C:\\Users\\ruben\\AppData\\Local\\Packages\\PythonSoftwareFoundation.Python.3.10_qbz5n2kfra8p0\\LocalCache\\local-packages\\Python310\\site-packages\\pytesseract\\pytesseract.py\", line 423, in image_to_string\n",
      "    return {\n",
      "  File \"C:\\Users\\ruben\\AppData\\Local\\Packages\\PythonSoftwareFoundation.Python.3.10_qbz5n2kfra8p0\\LocalCache\\local-packages\\Python310\\site-packages\\pytesseract\\pytesseract.py\", line 426, in <lambda>\n",
      "    Output.STRING: lambda: run_and_get_output(*args),\n",
      "  File \"C:\\Users\\ruben\\AppData\\Local\\Packages\\PythonSoftwareFoundation.Python.3.10_qbz5n2kfra8p0\\LocalCache\\local-packages\\Python310\\site-packages\\pytesseract\\pytesseract.py\", line 288, in run_and_get_output\n",
      "    run_tesseract(**kwargs)\n",
      "  File \"C:\\Users\\ruben\\AppData\\Local\\Packages\\PythonSoftwareFoundation.Python.3.10_qbz5n2kfra8p0\\LocalCache\\local-packages\\Python310\\site-packages\\pytesseract\\pytesseract.py\", line 264, in run_tesseract\n",
      "    raise TesseractError(proc.returncode, get_errors(error_string))\n",
      "pytesseract.pytesseract.TesseractError: (1, \"Error: Tesseract (legacy) engine requested, but components are not present in C:/Program Files/Tesseract-OCR/tessdata/eng.traineddata!! Failed loading language 'eng' Tesseract couldn't load any languages! Could not initialize tesseract.\")\n"
     ]
    },
    {
     "name": "stdout",
     "output_type": "stream",
     "text": [
      "\n",
      "\n"
     ]
    },
    {
     "name": "stderr",
     "output_type": "stream",
     "text": [
      "Traceback (most recent call last):\n",
      "  File \"C:\\Users\\ruben\\AppData\\Local\\Temp\\ipykernel_10220\\377098847.py\", line 3, in Transcription\n",
      "    transciption = OCR.image_to_string(image=img, lang=lang, config=myconfig)\n",
      "  File \"C:\\Users\\ruben\\AppData\\Local\\Packages\\PythonSoftwareFoundation.Python.3.10_qbz5n2kfra8p0\\LocalCache\\local-packages\\Python310\\site-packages\\pytesseract\\pytesseract.py\", line 423, in image_to_string\n",
      "    return {\n",
      "  File \"C:\\Users\\ruben\\AppData\\Local\\Packages\\PythonSoftwareFoundation.Python.3.10_qbz5n2kfra8p0\\LocalCache\\local-packages\\Python310\\site-packages\\pytesseract\\pytesseract.py\", line 426, in <lambda>\n",
      "    Output.STRING: lambda: run_and_get_output(*args),\n",
      "  File \"C:\\Users\\ruben\\AppData\\Local\\Packages\\PythonSoftwareFoundation.Python.3.10_qbz5n2kfra8p0\\LocalCache\\local-packages\\Python310\\site-packages\\pytesseract\\pytesseract.py\", line 288, in run_and_get_output\n",
      "    run_tesseract(**kwargs)\n",
      "  File \"C:\\Users\\ruben\\AppData\\Local\\Packages\\PythonSoftwareFoundation.Python.3.10_qbz5n2kfra8p0\\LocalCache\\local-packages\\Python310\\site-packages\\pytesseract\\pytesseract.py\", line 264, in run_tesseract\n",
      "    raise TesseractError(proc.returncode, get_errors(error_string))\n",
      "pytesseract.pytesseract.TesseractError: (1, \"Error: Tesseract (legacy) engine requested, but components are not present in C:/Program Files/Tesseract-OCR/tessdata/eng.traineddata!! Failed loading language 'eng' Tesseract couldn't load any languages! Could not initialize tesseract.\")\n"
     ]
    },
    {
     "name": "stdout",
     "output_type": "stream",
     "text": [
      "\n",
      "\n"
     ]
    },
    {
     "name": "stderr",
     "output_type": "stream",
     "text": [
      "Traceback (most recent call last):\n",
      "  File \"C:\\Users\\ruben\\AppData\\Local\\Temp\\ipykernel_10220\\377098847.py\", line 3, in Transcription\n",
      "    transciption = OCR.image_to_string(image=img, lang=lang, config=myconfig)\n",
      "  File \"C:\\Users\\ruben\\AppData\\Local\\Packages\\PythonSoftwareFoundation.Python.3.10_qbz5n2kfra8p0\\LocalCache\\local-packages\\Python310\\site-packages\\pytesseract\\pytesseract.py\", line 423, in image_to_string\n",
      "    return {\n",
      "  File \"C:\\Users\\ruben\\AppData\\Local\\Packages\\PythonSoftwareFoundation.Python.3.10_qbz5n2kfra8p0\\LocalCache\\local-packages\\Python310\\site-packages\\pytesseract\\pytesseract.py\", line 426, in <lambda>\n",
      "    Output.STRING: lambda: run_and_get_output(*args),\n",
      "  File \"C:\\Users\\ruben\\AppData\\Local\\Packages\\PythonSoftwareFoundation.Python.3.10_qbz5n2kfra8p0\\LocalCache\\local-packages\\Python310\\site-packages\\pytesseract\\pytesseract.py\", line 288, in run_and_get_output\n",
      "    run_tesseract(**kwargs)\n",
      "  File \"C:\\Users\\ruben\\AppData\\Local\\Packages\\PythonSoftwareFoundation.Python.3.10_qbz5n2kfra8p0\\LocalCache\\local-packages\\Python310\\site-packages\\pytesseract\\pytesseract.py\", line 264, in run_tesseract\n",
      "    raise TesseractError(proc.returncode, get_errors(error_string))\n",
      "pytesseract.pytesseract.TesseractError: (1, \"Error: Tesseract (legacy) engine requested, but components are not present in C:/Program Files/Tesseract-OCR/tessdata/eng.traineddata!! Failed loading language 'eng' Tesseract couldn't load any languages! Could not initialize tesseract.\")\n"
     ]
    },
    {
     "name": "stdout",
     "output_type": "stream",
     "text": [
      "\n",
      "\n"
     ]
    },
    {
     "name": "stderr",
     "output_type": "stream",
     "text": [
      "Traceback (most recent call last):\n",
      "  File \"C:\\Users\\ruben\\AppData\\Local\\Temp\\ipykernel_10220\\377098847.py\", line 3, in Transcription\n",
      "    transciption = OCR.image_to_string(image=img, lang=lang, config=myconfig)\n",
      "  File \"C:\\Users\\ruben\\AppData\\Local\\Packages\\PythonSoftwareFoundation.Python.3.10_qbz5n2kfra8p0\\LocalCache\\local-packages\\Python310\\site-packages\\pytesseract\\pytesseract.py\", line 423, in image_to_string\n",
      "    return {\n",
      "  File \"C:\\Users\\ruben\\AppData\\Local\\Packages\\PythonSoftwareFoundation.Python.3.10_qbz5n2kfra8p0\\LocalCache\\local-packages\\Python310\\site-packages\\pytesseract\\pytesseract.py\", line 426, in <lambda>\n",
      "    Output.STRING: lambda: run_and_get_output(*args),\n",
      "  File \"C:\\Users\\ruben\\AppData\\Local\\Packages\\PythonSoftwareFoundation.Python.3.10_qbz5n2kfra8p0\\LocalCache\\local-packages\\Python310\\site-packages\\pytesseract\\pytesseract.py\", line 288, in run_and_get_output\n",
      "    run_tesseract(**kwargs)\n",
      "  File \"C:\\Users\\ruben\\AppData\\Local\\Packages\\PythonSoftwareFoundation.Python.3.10_qbz5n2kfra8p0\\LocalCache\\local-packages\\Python310\\site-packages\\pytesseract\\pytesseract.py\", line 264, in run_tesseract\n",
      "    raise TesseractError(proc.returncode, get_errors(error_string))\n",
      "pytesseract.pytesseract.TesseractError: (1, \"Error: Tesseract (legacy) engine requested, but components are not present in C:/Program Files/Tesseract-OCR/tessdata/eng.traineddata!! Failed loading language 'eng' Tesseract couldn't load any languages! Could not initialize tesseract.\")\n"
     ]
    },
    {
     "name": "stdout",
     "output_type": "stream",
     "text": [
      "\n",
      "\n"
     ]
    },
    {
     "name": "stderr",
     "output_type": "stream",
     "text": [
      "Traceback (most recent call last):\n",
      "  File \"C:\\Users\\ruben\\AppData\\Local\\Temp\\ipykernel_10220\\377098847.py\", line 3, in Transcription\n",
      "    transciption = OCR.image_to_string(image=img, lang=lang, config=myconfig)\n",
      "  File \"C:\\Users\\ruben\\AppData\\Local\\Packages\\PythonSoftwareFoundation.Python.3.10_qbz5n2kfra8p0\\LocalCache\\local-packages\\Python310\\site-packages\\pytesseract\\pytesseract.py\", line 423, in image_to_string\n",
      "    return {\n",
      "  File \"C:\\Users\\ruben\\AppData\\Local\\Packages\\PythonSoftwareFoundation.Python.3.10_qbz5n2kfra8p0\\LocalCache\\local-packages\\Python310\\site-packages\\pytesseract\\pytesseract.py\", line 426, in <lambda>\n",
      "    Output.STRING: lambda: run_and_get_output(*args),\n",
      "  File \"C:\\Users\\ruben\\AppData\\Local\\Packages\\PythonSoftwareFoundation.Python.3.10_qbz5n2kfra8p0\\LocalCache\\local-packages\\Python310\\site-packages\\pytesseract\\pytesseract.py\", line 288, in run_and_get_output\n",
      "    run_tesseract(**kwargs)\n",
      "  File \"C:\\Users\\ruben\\AppData\\Local\\Packages\\PythonSoftwareFoundation.Python.3.10_qbz5n2kfra8p0\\LocalCache\\local-packages\\Python310\\site-packages\\pytesseract\\pytesseract.py\", line 264, in run_tesseract\n",
      "    raise TesseractError(proc.returncode, get_errors(error_string))\n",
      "pytesseract.pytesseract.TesseractError: (1, \"Error: Tesseract (legacy) engine requested, but components are not present in C:/Program Files/Tesseract-OCR/tessdata/eng.traineddata!! Failed loading language 'eng' Tesseract couldn't load any languages! Could not initialize tesseract.\")\n"
     ]
    },
    {
     "name": "stdout",
     "output_type": "stream",
     "text": [
      "\n",
      "\n"
     ]
    },
    {
     "name": "stderr",
     "output_type": "stream",
     "text": [
      "Traceback (most recent call last):\n",
      "  File \"C:\\Users\\ruben\\AppData\\Local\\Temp\\ipykernel_10220\\377098847.py\", line 3, in Transcription\n",
      "    transciption = OCR.image_to_string(image=img, lang=lang, config=myconfig)\n",
      "  File \"C:\\Users\\ruben\\AppData\\Local\\Packages\\PythonSoftwareFoundation.Python.3.10_qbz5n2kfra8p0\\LocalCache\\local-packages\\Python310\\site-packages\\pytesseract\\pytesseract.py\", line 423, in image_to_string\n",
      "    return {\n",
      "  File \"C:\\Users\\ruben\\AppData\\Local\\Packages\\PythonSoftwareFoundation.Python.3.10_qbz5n2kfra8p0\\LocalCache\\local-packages\\Python310\\site-packages\\pytesseract\\pytesseract.py\", line 426, in <lambda>\n",
      "    Output.STRING: lambda: run_and_get_output(*args),\n",
      "  File \"C:\\Users\\ruben\\AppData\\Local\\Packages\\PythonSoftwareFoundation.Python.3.10_qbz5n2kfra8p0\\LocalCache\\local-packages\\Python310\\site-packages\\pytesseract\\pytesseract.py\", line 288, in run_and_get_output\n",
      "    run_tesseract(**kwargs)\n",
      "  File \"C:\\Users\\ruben\\AppData\\Local\\Packages\\PythonSoftwareFoundation.Python.3.10_qbz5n2kfra8p0\\LocalCache\\local-packages\\Python310\\site-packages\\pytesseract\\pytesseract.py\", line 264, in run_tesseract\n",
      "    raise TesseractError(proc.returncode, get_errors(error_string))\n",
      "pytesseract.pytesseract.TesseractError: (1, \"Error: Tesseract (legacy) engine requested, but components are not present in C:/Program Files/Tesseract-OCR/tessdata/eng.traineddata!! Failed loading language 'eng' Tesseract couldn't load any languages! Could not initialize tesseract.\")\n"
     ]
    },
    {
     "name": "stdout",
     "output_type": "stream",
     "text": [
      "\n",
      "\n"
     ]
    },
    {
     "name": "stderr",
     "output_type": "stream",
     "text": [
      "Traceback (most recent call last):\n",
      "  File \"C:\\Users\\ruben\\AppData\\Local\\Temp\\ipykernel_10220\\377098847.py\", line 3, in Transcription\n",
      "    transciption = OCR.image_to_string(image=img, lang=lang, config=myconfig)\n",
      "  File \"C:\\Users\\ruben\\AppData\\Local\\Packages\\PythonSoftwareFoundation.Python.3.10_qbz5n2kfra8p0\\LocalCache\\local-packages\\Python310\\site-packages\\pytesseract\\pytesseract.py\", line 423, in image_to_string\n",
      "    return {\n",
      "  File \"C:\\Users\\ruben\\AppData\\Local\\Packages\\PythonSoftwareFoundation.Python.3.10_qbz5n2kfra8p0\\LocalCache\\local-packages\\Python310\\site-packages\\pytesseract\\pytesseract.py\", line 426, in <lambda>\n",
      "    Output.STRING: lambda: run_and_get_output(*args),\n",
      "  File \"C:\\Users\\ruben\\AppData\\Local\\Packages\\PythonSoftwareFoundation.Python.3.10_qbz5n2kfra8p0\\LocalCache\\local-packages\\Python310\\site-packages\\pytesseract\\pytesseract.py\", line 288, in run_and_get_output\n",
      "    run_tesseract(**kwargs)\n",
      "  File \"C:\\Users\\ruben\\AppData\\Local\\Packages\\PythonSoftwareFoundation.Python.3.10_qbz5n2kfra8p0\\LocalCache\\local-packages\\Python310\\site-packages\\pytesseract\\pytesseract.py\", line 264, in run_tesseract\n",
      "    raise TesseractError(proc.returncode, get_errors(error_string))\n",
      "pytesseract.pytesseract.TesseractError: (1, \"Error: Tesseract (legacy) engine requested, but components are not present in C:/Program Files/Tesseract-OCR/tessdata/eng.traineddata!! Failed loading language 'eng' Tesseract couldn't load any languages! Could not initialize tesseract.\")\n"
     ]
    },
    {
     "name": "stdout",
     "output_type": "stream",
     "text": [
      "\n",
      "\n"
     ]
    },
    {
     "name": "stderr",
     "output_type": "stream",
     "text": [
      "Traceback (most recent call last):\n",
      "  File \"C:\\Users\\ruben\\AppData\\Local\\Temp\\ipykernel_10220\\377098847.py\", line 3, in Transcription\n",
      "    transciption = OCR.image_to_string(image=img, lang=lang, config=myconfig)\n",
      "  File \"C:\\Users\\ruben\\AppData\\Local\\Packages\\PythonSoftwareFoundation.Python.3.10_qbz5n2kfra8p0\\LocalCache\\local-packages\\Python310\\site-packages\\pytesseract\\pytesseract.py\", line 423, in image_to_string\n",
      "    return {\n",
      "  File \"C:\\Users\\ruben\\AppData\\Local\\Packages\\PythonSoftwareFoundation.Python.3.10_qbz5n2kfra8p0\\LocalCache\\local-packages\\Python310\\site-packages\\pytesseract\\pytesseract.py\", line 426, in <lambda>\n",
      "    Output.STRING: lambda: run_and_get_output(*args),\n",
      "  File \"C:\\Users\\ruben\\AppData\\Local\\Packages\\PythonSoftwareFoundation.Python.3.10_qbz5n2kfra8p0\\LocalCache\\local-packages\\Python310\\site-packages\\pytesseract\\pytesseract.py\", line 288, in run_and_get_output\n",
      "    run_tesseract(**kwargs)\n",
      "  File \"C:\\Users\\ruben\\AppData\\Local\\Packages\\PythonSoftwareFoundation.Python.3.10_qbz5n2kfra8p0\\LocalCache\\local-packages\\Python310\\site-packages\\pytesseract\\pytesseract.py\", line 264, in run_tesseract\n",
      "    raise TesseractError(proc.returncode, get_errors(error_string))\n",
      "pytesseract.pytesseract.TesseractError: (1, \"Error: Tesseract (legacy) engine requested, but components are not present in C:/Program Files/Tesseract-OCR/tessdata/eng.traineddata!! Failed loading language 'eng' Tesseract couldn't load any languages! Could not initialize tesseract.\")\n"
     ]
    },
    {
     "name": "stdout",
     "output_type": "stream",
     "text": [
      "\n",
      "\n"
     ]
    },
    {
     "name": "stderr",
     "output_type": "stream",
     "text": [
      "Traceback (most recent call last):\n",
      "  File \"C:\\Users\\ruben\\AppData\\Local\\Temp\\ipykernel_10220\\377098847.py\", line 3, in Transcription\n",
      "    transciption = OCR.image_to_string(image=img, lang=lang, config=myconfig)\n",
      "  File \"C:\\Users\\ruben\\AppData\\Local\\Packages\\PythonSoftwareFoundation.Python.3.10_qbz5n2kfra8p0\\LocalCache\\local-packages\\Python310\\site-packages\\pytesseract\\pytesseract.py\", line 423, in image_to_string\n",
      "    return {\n",
      "  File \"C:\\Users\\ruben\\AppData\\Local\\Packages\\PythonSoftwareFoundation.Python.3.10_qbz5n2kfra8p0\\LocalCache\\local-packages\\Python310\\site-packages\\pytesseract\\pytesseract.py\", line 426, in <lambda>\n",
      "    Output.STRING: lambda: run_and_get_output(*args),\n",
      "  File \"C:\\Users\\ruben\\AppData\\Local\\Packages\\PythonSoftwareFoundation.Python.3.10_qbz5n2kfra8p0\\LocalCache\\local-packages\\Python310\\site-packages\\pytesseract\\pytesseract.py\", line 288, in run_and_get_output\n",
      "    run_tesseract(**kwargs)\n",
      "  File \"C:\\Users\\ruben\\AppData\\Local\\Packages\\PythonSoftwareFoundation.Python.3.10_qbz5n2kfra8p0\\LocalCache\\local-packages\\Python310\\site-packages\\pytesseract\\pytesseract.py\", line 264, in run_tesseract\n",
      "    raise TesseractError(proc.returncode, get_errors(error_string))\n",
      "pytesseract.pytesseract.TesseractError: (1, \"Error: Tesseract (legacy) engine requested, but components are not present in C:/Program Files/Tesseract-OCR/tessdata/eng.traineddata!! Failed loading language 'eng' Tesseract couldn't load any languages! Could not initialize tesseract.\")\n"
     ]
    },
    {
     "name": "stdout",
     "output_type": "stream",
     "text": [
      "\n",
      "\n"
     ]
    },
    {
     "name": "stderr",
     "output_type": "stream",
     "text": [
      "Traceback (most recent call last):\n",
      "  File \"C:\\Users\\ruben\\AppData\\Local\\Temp\\ipykernel_10220\\377098847.py\", line 3, in Transcription\n",
      "    transciption = OCR.image_to_string(image=img, lang=lang, config=myconfig)\n",
      "  File \"C:\\Users\\ruben\\AppData\\Local\\Packages\\PythonSoftwareFoundation.Python.3.10_qbz5n2kfra8p0\\LocalCache\\local-packages\\Python310\\site-packages\\pytesseract\\pytesseract.py\", line 423, in image_to_string\n",
      "    return {\n",
      "  File \"C:\\Users\\ruben\\AppData\\Local\\Packages\\PythonSoftwareFoundation.Python.3.10_qbz5n2kfra8p0\\LocalCache\\local-packages\\Python310\\site-packages\\pytesseract\\pytesseract.py\", line 426, in <lambda>\n",
      "    Output.STRING: lambda: run_and_get_output(*args),\n",
      "  File \"C:\\Users\\ruben\\AppData\\Local\\Packages\\PythonSoftwareFoundation.Python.3.10_qbz5n2kfra8p0\\LocalCache\\local-packages\\Python310\\site-packages\\pytesseract\\pytesseract.py\", line 288, in run_and_get_output\n",
      "    run_tesseract(**kwargs)\n",
      "  File \"C:\\Users\\ruben\\AppData\\Local\\Packages\\PythonSoftwareFoundation.Python.3.10_qbz5n2kfra8p0\\LocalCache\\local-packages\\Python310\\site-packages\\pytesseract\\pytesseract.py\", line 264, in run_tesseract\n",
      "    raise TesseractError(proc.returncode, get_errors(error_string))\n",
      "pytesseract.pytesseract.TesseractError: (1, \"Error: Tesseract (legacy) engine requested, but components are not present in C:/Program Files/Tesseract-OCR/tessdata/eng.traineddata!! Failed loading language 'eng' Tesseract couldn't load any languages! Could not initialize tesseract.\")\n"
     ]
    },
    {
     "name": "stdout",
     "output_type": "stream",
     "text": [
      "\n",
      "\n"
     ]
    },
    {
     "name": "stderr",
     "output_type": "stream",
     "text": [
      "Traceback (most recent call last):\n",
      "  File \"C:\\Users\\ruben\\AppData\\Local\\Temp\\ipykernel_10220\\377098847.py\", line 3, in Transcription\n",
      "    transciption = OCR.image_to_string(image=img, lang=lang, config=myconfig)\n",
      "  File \"C:\\Users\\ruben\\AppData\\Local\\Packages\\PythonSoftwareFoundation.Python.3.10_qbz5n2kfra8p0\\LocalCache\\local-packages\\Python310\\site-packages\\pytesseract\\pytesseract.py\", line 423, in image_to_string\n",
      "    return {\n",
      "  File \"C:\\Users\\ruben\\AppData\\Local\\Packages\\PythonSoftwareFoundation.Python.3.10_qbz5n2kfra8p0\\LocalCache\\local-packages\\Python310\\site-packages\\pytesseract\\pytesseract.py\", line 426, in <lambda>\n",
      "    Output.STRING: lambda: run_and_get_output(*args),\n",
      "  File \"C:\\Users\\ruben\\AppData\\Local\\Packages\\PythonSoftwareFoundation.Python.3.10_qbz5n2kfra8p0\\LocalCache\\local-packages\\Python310\\site-packages\\pytesseract\\pytesseract.py\", line 288, in run_and_get_output\n",
      "    run_tesseract(**kwargs)\n",
      "  File \"C:\\Users\\ruben\\AppData\\Local\\Packages\\PythonSoftwareFoundation.Python.3.10_qbz5n2kfra8p0\\LocalCache\\local-packages\\Python310\\site-packages\\pytesseract\\pytesseract.py\", line 264, in run_tesseract\n",
      "    raise TesseractError(proc.returncode, get_errors(error_string))\n",
      "pytesseract.pytesseract.TesseractError: (1, \"Error: Tesseract (legacy) engine requested, but components are not present in C:/Program Files/Tesseract-OCR/tessdata/eng.traineddata!! Failed loading language 'eng' Tesseract couldn't load any languages! Could not initialize tesseract.\")\n"
     ]
    },
    {
     "name": "stdout",
     "output_type": "stream",
     "text": [
      "\n",
      "\n"
     ]
    },
    {
     "name": "stderr",
     "output_type": "stream",
     "text": [
      "Traceback (most recent call last):\n",
      "  File \"C:\\Users\\ruben\\AppData\\Local\\Temp\\ipykernel_10220\\377098847.py\", line 3, in Transcription\n",
      "    transciption = OCR.image_to_string(image=img, lang=lang, config=myconfig)\n",
      "  File \"C:\\Users\\ruben\\AppData\\Local\\Packages\\PythonSoftwareFoundation.Python.3.10_qbz5n2kfra8p0\\LocalCache\\local-packages\\Python310\\site-packages\\pytesseract\\pytesseract.py\", line 423, in image_to_string\n",
      "    return {\n",
      "  File \"C:\\Users\\ruben\\AppData\\Local\\Packages\\PythonSoftwareFoundation.Python.3.10_qbz5n2kfra8p0\\LocalCache\\local-packages\\Python310\\site-packages\\pytesseract\\pytesseract.py\", line 426, in <lambda>\n",
      "    Output.STRING: lambda: run_and_get_output(*args),\n",
      "  File \"C:\\Users\\ruben\\AppData\\Local\\Packages\\PythonSoftwareFoundation.Python.3.10_qbz5n2kfra8p0\\LocalCache\\local-packages\\Python310\\site-packages\\pytesseract\\pytesseract.py\", line 288, in run_and_get_output\n",
      "    run_tesseract(**kwargs)\n",
      "  File \"C:\\Users\\ruben\\AppData\\Local\\Packages\\PythonSoftwareFoundation.Python.3.10_qbz5n2kfra8p0\\LocalCache\\local-packages\\Python310\\site-packages\\pytesseract\\pytesseract.py\", line 264, in run_tesseract\n",
      "    raise TesseractError(proc.returncode, get_errors(error_string))\n",
      "pytesseract.pytesseract.TesseractError: (1, \"Error: Tesseract (legacy) engine requested, but components are not present in C:/Program Files/Tesseract-OCR/tessdata/eng.traineddata!! Failed loading language 'eng' Tesseract couldn't load any languages! Could not initialize tesseract.\")\n"
     ]
    },
    {
     "name": "stdout",
     "output_type": "stream",
     "text": [
      "\n",
      "\n"
     ]
    },
    {
     "name": "stderr",
     "output_type": "stream",
     "text": [
      "Traceback (most recent call last):\n",
      "  File \"C:\\Users\\ruben\\AppData\\Local\\Temp\\ipykernel_10220\\377098847.py\", line 3, in Transcription\n",
      "    transciption = OCR.image_to_string(image=img, lang=lang, config=myconfig)\n",
      "  File \"C:\\Users\\ruben\\AppData\\Local\\Packages\\PythonSoftwareFoundation.Python.3.10_qbz5n2kfra8p0\\LocalCache\\local-packages\\Python310\\site-packages\\pytesseract\\pytesseract.py\", line 423, in image_to_string\n",
      "    return {\n",
      "  File \"C:\\Users\\ruben\\AppData\\Local\\Packages\\PythonSoftwareFoundation.Python.3.10_qbz5n2kfra8p0\\LocalCache\\local-packages\\Python310\\site-packages\\pytesseract\\pytesseract.py\", line 426, in <lambda>\n",
      "    Output.STRING: lambda: run_and_get_output(*args),\n",
      "  File \"C:\\Users\\ruben\\AppData\\Local\\Packages\\PythonSoftwareFoundation.Python.3.10_qbz5n2kfra8p0\\LocalCache\\local-packages\\Python310\\site-packages\\pytesseract\\pytesseract.py\", line 288, in run_and_get_output\n",
      "    run_tesseract(**kwargs)\n",
      "  File \"C:\\Users\\ruben\\AppData\\Local\\Packages\\PythonSoftwareFoundation.Python.3.10_qbz5n2kfra8p0\\LocalCache\\local-packages\\Python310\\site-packages\\pytesseract\\pytesseract.py\", line 264, in run_tesseract\n",
      "    raise TesseractError(proc.returncode, get_errors(error_string))\n",
      "pytesseract.pytesseract.TesseractError: (1, \"Error: Tesseract (legacy) engine requested, but components are not present in C:/Program Files/Tesseract-OCR/tessdata/eng.traineddata!! Failed loading language 'eng' Tesseract couldn't load any languages! Could not initialize tesseract.\")\n"
     ]
    },
    {
     "name": "stdout",
     "output_type": "stream",
     "text": [
      "\n",
      "\n"
     ]
    },
    {
     "name": "stderr",
     "output_type": "stream",
     "text": [
      "Traceback (most recent call last):\n",
      "  File \"C:\\Users\\ruben\\AppData\\Local\\Temp\\ipykernel_10220\\377098847.py\", line 3, in Transcription\n",
      "    transciption = OCR.image_to_string(image=img, lang=lang, config=myconfig)\n",
      "  File \"C:\\Users\\ruben\\AppData\\Local\\Packages\\PythonSoftwareFoundation.Python.3.10_qbz5n2kfra8p0\\LocalCache\\local-packages\\Python310\\site-packages\\pytesseract\\pytesseract.py\", line 423, in image_to_string\n",
      "    return {\n",
      "  File \"C:\\Users\\ruben\\AppData\\Local\\Packages\\PythonSoftwareFoundation.Python.3.10_qbz5n2kfra8p0\\LocalCache\\local-packages\\Python310\\site-packages\\pytesseract\\pytesseract.py\", line 426, in <lambda>\n",
      "    Output.STRING: lambda: run_and_get_output(*args),\n",
      "  File \"C:\\Users\\ruben\\AppData\\Local\\Packages\\PythonSoftwareFoundation.Python.3.10_qbz5n2kfra8p0\\LocalCache\\local-packages\\Python310\\site-packages\\pytesseract\\pytesseract.py\", line 288, in run_and_get_output\n",
      "    run_tesseract(**kwargs)\n",
      "  File \"C:\\Users\\ruben\\AppData\\Local\\Packages\\PythonSoftwareFoundation.Python.3.10_qbz5n2kfra8p0\\LocalCache\\local-packages\\Python310\\site-packages\\pytesseract\\pytesseract.py\", line 264, in run_tesseract\n",
      "    raise TesseractError(proc.returncode, get_errors(error_string))\n",
      "pytesseract.pytesseract.TesseractError: (1, \"Error: Tesseract (legacy) engine requested, but components are not present in C:/Program Files/Tesseract-OCR/tessdata/eng.traineddata!! Failed loading language 'eng' Tesseract couldn't load any languages! Could not initialize tesseract.\")\n"
     ]
    },
    {
     "name": "stdout",
     "output_type": "stream",
     "text": [
      "\n",
      "\n"
     ]
    },
    {
     "name": "stderr",
     "output_type": "stream",
     "text": [
      "Traceback (most recent call last):\n",
      "  File \"C:\\Users\\ruben\\AppData\\Local\\Temp\\ipykernel_10220\\377098847.py\", line 3, in Transcription\n",
      "    transciption = OCR.image_to_string(image=img, lang=lang, config=myconfig)\n",
      "  File \"C:\\Users\\ruben\\AppData\\Local\\Packages\\PythonSoftwareFoundation.Python.3.10_qbz5n2kfra8p0\\LocalCache\\local-packages\\Python310\\site-packages\\pytesseract\\pytesseract.py\", line 423, in image_to_string\n",
      "    return {\n",
      "  File \"C:\\Users\\ruben\\AppData\\Local\\Packages\\PythonSoftwareFoundation.Python.3.10_qbz5n2kfra8p0\\LocalCache\\local-packages\\Python310\\site-packages\\pytesseract\\pytesseract.py\", line 426, in <lambda>\n",
      "    Output.STRING: lambda: run_and_get_output(*args),\n",
      "  File \"C:\\Users\\ruben\\AppData\\Local\\Packages\\PythonSoftwareFoundation.Python.3.10_qbz5n2kfra8p0\\LocalCache\\local-packages\\Python310\\site-packages\\pytesseract\\pytesseract.py\", line 288, in run_and_get_output\n",
      "    run_tesseract(**kwargs)\n",
      "  File \"C:\\Users\\ruben\\AppData\\Local\\Packages\\PythonSoftwareFoundation.Python.3.10_qbz5n2kfra8p0\\LocalCache\\local-packages\\Python310\\site-packages\\pytesseract\\pytesseract.py\", line 264, in run_tesseract\n",
      "    raise TesseractError(proc.returncode, get_errors(error_string))\n",
      "pytesseract.pytesseract.TesseractError: (1, \"Error: Tesseract (legacy) engine requested, but components are not present in C:/Program Files/Tesseract-OCR/tessdata/eng.traineddata!! Failed loading language 'eng' Tesseract couldn't load any languages! Could not initialize tesseract.\")\n"
     ]
    },
    {
     "name": "stdout",
     "output_type": "stream",
     "text": [
      "\n",
      "\n",
      "Best parameter: psm 1\toem 1\n",
      "Associate Score: 0.006230529595015576\n"
     ]
    }
   ],
   "source": [
    "transcrip= np.empty((14, 4), dtype=np.dtype('U'))   # the output of the OCR\n",
    "score= np.empty((14, 4))       # the score of this output\n",
    "\n",
    "# For each possibility\n",
    "for psm in range(0,14):\n",
    "    for oem in range(0,4):\n",
    "        # Score the result\n",
    "        myconfig = config(psm, oem)\n",
    "        transcrip[psm,oem] = Transcription(img, myconfig=myconfig)\n",
    "        score[psm,oem] = Score(original_txt, transcrip[psm,oem])\n",
    "\n",
    "# Print best parameter\n",
    "psm_max, oem_max = np.unravel_index(np.argmax(score), score.shape)\n",
    "score_max = score[psm_max, oem_max]\n",
    "print(f'Best parameter: psm {psm_max}\\toem {oem_max}\\nAssociate Score: {score_max}')"
   ]
  },
  {
   "cell_type": "code",
   "execution_count": 159,
   "metadata": {},
   "outputs": [
    {
     "data": {
      "text/plain": [
       "Text(0.5, 1.0, 'Best Config: psm 1 oem 1')"
      ]
     },
     "execution_count": 159,
     "metadata": {},
     "output_type": "execute_result"
    },
    {
     "data": {
      "image/png": "[encoded data removed]",
      "text/plain": [
       "<Figure size 640x480 with 2 Axes>"
      ]
     },
     "metadata": {},
     "output_type": "display_data"
    }
   ],
   "source": [
    "# Print the best config round 3 decimales\n",
    "sns.heatmap(score, cmap=\"YlGnBu\", annot=True, fmt=\".3f\")\n",
    "plt.ylabel(\"psm\")\n",
    "plt.xlabel(\"oem\")\n",
    "plt.title(f\"Best Config: psm {psm_max} oem {oem_max}\")"
   ]
  },
  {
   "cell_type": "code",
   "execution_count": 179,
   "metadata": {},
   "outputs": [
    {
     "name": "stdout",
     "output_type": "stream",
     "text": [
      "psm,eom : (0, 0)\tScore: 0.0\tTranscrip: \n",
      "psm,eom : (0, 1)\tScore: 0.0\tTranscrip: \n",
      "psm,eom : (0, 2)\tScore: 0.0\tTranscrip: \n",
      "psm,eom : (0, 3)\tScore: 0.0\tTranscrip: \n",
      "psm,eom : (1, 0)\tScore: 0.0\tTranscrip: \n",
      "psm,eom : (1, 1)\tScore: 0.006\tTranscrip: E\n",
      "psm,eom : (1, 2)\tScore: 0.0\tTranscrip: \n",
      "psm,eom : (1, 3)\tScore: 0.006\tTranscrip: E\n",
      "psm,eom : (2, 0)\tScore: 0.0\tTranscrip: \n",
      "psm,eom : (2, 1)\tScore: 0.0\tTranscrip: \n",
      "psm,eom : (2, 2)\tScore: 0.0\tTranscrip: \n",
      "psm,eom : (2, 3)\tScore: 0.0\tTranscrip: \n",
      "psm,eom : (3, 0)\tScore: 0.0\tTranscrip: \n",
      "psm,eom : (3, 1)\tScore: 0.006\tTranscrip: E\n",
      "psm,eom : (3, 2)\tScore: 0.0\tTranscrip: \n",
      "psm,eom : (3, 3)\tScore: 0.006\tTranscrip: E\n",
      "psm,eom : (4, 0)\tScore: 0.0\tTranscrip: \n",
      "psm,eom : (4, 1)\tScore: 0.006\tTranscrip: E\n",
      "psm,eom : (4, 2)\tScore: 0.0\tTranscrip: \n",
      "psm,eom : (4, 3)\tScore: 0.006\tTranscrip: E\n",
      "psm,eom : (5, 0)\tScore: 0.0\tTranscrip: \n",
      "psm,eom : (5, 1)\tScore: 0.0\tTranscrip: 2\n",
      "psm,eom : (5, 2)\tScore: 0.0\tTranscrip: \n",
      "psm,eom : (5, 3)\tScore: 0.0\tTranscrip: 2\n",
      "psm,eom : (6, 0)\tScore: 0.0\tTranscrip: \n",
      "psm,eom : (6, 1)\tScore: 0.006\tTranscrip: E\n",
      "psm,eom : (6, 2)\tScore: 0.0\tTranscrip: \n",
      "psm,eom : (6, 3)\tScore: 0.006\tTranscrip: E\n",
      "psm,eom : (7, 0)\tScore: 0.0\tTranscrip: \n",
      "psm,eom : (7, 1)\tScore: 0.0\tTranscrip: \n",
      "psm,eom : (7, 2)\tScore: 0.0\tTranscrip: \n",
      "psm,eom : (7, 3)\tScore: 0.0\tTranscrip: \n",
      "psm,eom : (8, 0)\tScore: 0.0\tTranscrip: \n",
      "psm,eom : (8, 1)\tScore: 0.0\tTranscrip: S\n",
      "psm,eom : (8, 2)\tScore: 0.0\tTranscrip: \n",
      "psm,eom : (8, 3)\tScore: 0.0\tTranscrip: S\n",
      "psm,eom : (9, 0)\tScore: 0.0\tTranscrip: \n",
      "psm,eom : (9, 1)\tScore: 0.0\tTranscrip: S\n",
      "psm,eom : (9, 2)\tScore: 0.0\tTranscrip: \n",
      "psm,eom : (9, 3)\tScore: 0.0\tTranscrip: S\n",
      "psm,eom : (10, 0)\tScore: 0.0\tTranscrip: \n",
      "psm,eom : (10, 1)\tScore: 0.006\tTranscrip: P\n",
      "psm,eom : (10, 2)\tScore: 0.0\tTranscrip: \n",
      "psm,eom : (10, 3)\tScore: 0.006\tTranscrip: P\n",
      "psm,eom : (11, 0)\tScore: 0.0\tTranscrip: \n",
      "psm,eom : (11, 1)\tScore: 0.006\tTranscrip: E\n",
      "psm,eom : (11, 2)\tScore: 0.0\tTranscrip: \n",
      "psm,eom : (11, 3)\tScore: 0.006\tTranscrip: E\n",
      "psm,eom : (12, 0)\tScore: 0.0\tTranscrip: \n",
      "psm,eom : (12, 1)\tScore: 0.006\tTranscrip: E\n",
      "psm,eom : (12, 2)\tScore: 0.0\tTranscrip: \n",
      "psm,eom : (12, 3)\tScore: 0.006\tTranscrip: E\n",
      "psm,eom : (13, 0)\tScore: 0.0\tTranscrip: \n",
      "psm,eom : (13, 1)\tScore: 0.0\tTranscrip: S\n",
      "psm,eom : (13, 2)\tScore: 0.0\tTranscrip: \n",
      "psm,eom : (13, 3)\tScore: 0.0\tTranscrip: S\n"
     ]
    }
   ],
   "source": [
    "for i in range(transcrip.shape[0]):\n",
    "    for j in range(transcrip.shape[1]):\n",
    "        print(f\"psm,eom : {(i,j)}\\tScore: {round(score[i,j], 3)}\\tTranscrip: {transcrip[i,j]}\")"
   ]
  }
 ],
 "metadata": {
  "kernelspec": {
   "display_name": "Python 3",
   "language": "python",
   "name": "python3"
  },
  "language_info": {
   "codemirror_mode": {
    "name": "ipython",
    "version": 3
   },
   "file_extension": ".py",
   "mimetype": "text/x-python",
   "name": "python",
   "nbconvert_exporter": "python",
   "pygments_lexer": "ipython3",
   "version": "3.10.11"
  }
 },
 "nbformat": 4,
 "nbformat_minor": 2
}
